{
 "cells": [
  {
   "cell_type": "code",
   "execution_count": 1,
   "metadata": {},
   "outputs": [
    {
     "name": "stderr",
     "output_type": "stream",
     "text": [
      "/home/taeksoon/anaconda3/envs/dl/lib/python3.5/site-packages/h5py/__init__.py:34: FutureWarning: Conversion of the second argument of issubdtype from `float` to `np.floating` is deprecated. In future, it will be treated as `np.float64 == np.dtype(float).type`.\n",
      "  from ._conv import register_converters as _register_converters\n"
     ]
    }
   ],
   "source": [
    "%matplotlib inline\n",
    "from collections import deque\n",
    "import random\n",
    "\n",
    "import tensorflow as tf\n",
    "import gym\n",
    "\n",
    "import numpy as np\n",
    "import matplotlib.pyplot as plt\n",
    "\n",
    "# For rendering\n",
    "from IPython import display"
   ]
  },
  {
   "cell_type": "markdown",
   "metadata": {},
   "source": [
    "### Render function\n",
    "\n",
    "Render results when this notebook runs on a remote server  \n",
    "(https://stackoverflow.com/questions/40195740/how-to-run-openai-gym-render-over-a-server)"
   ]
  },
  {
   "cell_type": "code",
   "execution_count": 2,
   "metadata": {
    "collapsed": true
   },
   "outputs": [],
   "source": [
    "def show_state(rgb_arrays):\n",
    "    for i, rgb_array in enumerate(rgb_arrays):\n",
    "        plt.figure(3)\n",
    "        plt.clf()\n",
    "        plt.imshow(rgb_array)\n",
    "        plt.title(\"Step: {}\".format(i))\n",
    "        plt.axis('off')\n",
    "\n",
    "        display.clear_output(wait=True)\n",
    "        display.display(plt.gcf())\n",
    "    display.clear_output(wait=True)"
   ]
  },
  {
   "cell_type": "markdown",
   "metadata": {},
   "source": [
    "# Discrete Action Space"
   ]
  },
  {
   "cell_type": "code",
   "execution_count": 2,
   "metadata": {},
   "outputs": [
    {
     "name": "stdout",
     "output_type": "stream",
     "text": [
      "\u001b[33mWARN: gym.spaces.Box autodetected dtype as <class 'numpy.float32'>. Please provide explicit dtype.\u001b[0m\n"
     ]
    }
   ],
   "source": [
    "env = gym.make('CartPole-v0')\n",
    "\n",
    "n_state = env.observation_space.shape[0]\n",
    "n_action = env.action_space.n\n",
    "n_hidden = 50\n",
    "learning_rate = 0.001"
   ]
  },
  {
   "cell_type": "markdown",
   "metadata": {},
   "source": [
    "### Helper Functions"
   ]
  },
  {
   "cell_type": "code",
   "execution_count": 3,
   "metadata": {
    "collapsed": true
   },
   "outputs": [],
   "source": [
    "def normalize(arr):\n",
    "    return (arr - np.mean(arr)) / np.std(arr)\n",
    "\n",
    "def discount_rewards(rewards, gamma):\n",
    "    cumulative_rewards = np.zeros_like(rewards)\n",
    "    cumul_r = 0\n",
    "    for step in reversed(range(len(rewards))):\n",
    "        cumul_r = cumul_r * gamma + rewards[step]\n",
    "        cumulative_rewards[step] = cumul_r\n",
    "    \n",
    "    return cumulative_rewards\n",
    "\n",
    "def discount_and_normalize_rewards(rewards, gamma):\n",
    "    return normalize(discount_rewards(rewards, gamma))"
   ]
  },
  {
   "cell_type": "markdown",
   "metadata": {},
   "source": [
    "### Deep Q-Learning"
   ]
  },
  {
   "cell_type": "code",
   "execution_count": 4,
   "metadata": {
    "collapsed": true
   },
   "outputs": [],
   "source": [
    "tf.reset_default_graph()\n",
    "\n",
    "X = tf.placeholder(dtype=tf.float32, shape=(None, n_state), name='input_state')\n",
    "with tf.name_scope(\"source\") as scope:\n",
    "    src_hidden = tf.layers.dense(X, n_hidden, activation=tf.nn.relu, name=scope+'hidden')\n",
    "    src_logit = tf.layers.dense(src_hidden, n_action, name=scope+'logit')\n",
    "    \n",
    "    y = tf.placeholder(dtype=tf.float32, shape=(None, n_action), name=scope+'target')\n",
    "\n",
    "    loss = tf.reduce_mean(tf.square(src_logit - y))\n",
    "    train_op = tf.train.AdamOptimizer(learning_rate).minimize(loss)\n",
    "\n",
    "with tf.name_scope(\"target\") as scope:\n",
    "    tgt_hidden = tf.layers.dense(X, n_hidden, activation=tf.nn.relu, name=scope+'hidden')\n",
    "    tgt_logit = tf.layers.dense(tgt_hidden, n_action, name=scope+'logit')\n",
    "\n",
    "src_vars = tf.get_collection(tf.GraphKeys.TRAINABLE_VARIABLES, \"source\")\n",
    "tgt_vars = tf.get_collection(tf.GraphKeys.TRAINABLE_VARIABLES, \"target\")\n",
    "\n",
    "update_target_ops = [tf.assign(t_v, s_v) for s_v, t_v in zip(src_vars, tgt_vars)]"
   ]
  },
  {
   "cell_type": "code",
   "execution_count": 7,
   "metadata": {},
   "outputs": [
    {
     "name": "stdout",
     "output_type": "stream",
     "text": [
      "Episode: 9999 / Cost: 0.001463583204895258 / Reward: 157.0 / Global step: 62381927"
     ]
    }
   ],
   "source": [
    "n_episode = 10000\n",
    "n_step = 200\n",
    "sample_size = 32\n",
    "init_buf = 10000\n",
    "buf_size = 50000\n",
    "target_update_per_step = 10000\n",
    "epsilon = 0.5\n",
    "discount_factor = 0.99\n",
    "\n",
    "init = tf.global_variables_initializer()\n",
    "rewards = []\n",
    "with tf.Session() as sess:\n",
    "    sess.run(init)\n",
    "    sess.run(update_target_ops)\n",
    "    \n",
    "    s_buf = deque([], buf_size)\n",
    "    a_buf = deque([], buf_size)\n",
    "    r_buf = deque([], buf_size)\n",
    "    s__buf = deque([], buf_size)\n",
    "    done_buf = deque([], buf_size)\n",
    "    \n",
    "    global_step = 0\n",
    "    \n",
    "    for episode in range(n_episode):    \n",
    "        s = env.reset()\n",
    "        \n",
    "        reward_per_episode = 0\n",
    "\n",
    "        for step in range(n_step):\n",
    "            q_vals = sess.run(src_logit, feed_dict={X: [s]})\n",
    "\n",
    "            a = np.argmax(q_vals[0])\n",
    "            \n",
    "            exploration_rate = np.power(epsilon, episode // 100)\n",
    "            a = np.random.choice([a, 1 - a], \n",
    "                                 p=[1-exploration_rate, exploration_rate])\n",
    "\n",
    "            s_, r, done, _ = env.step(a)\n",
    "            reward_per_episode += r\n",
    "\n",
    "            s_buf.append(s)\n",
    "            a_buf.append(a)\n",
    "            r_buf.append(r)\n",
    "            s__buf.append(s_)\n",
    "            done_buf.append(done)\n",
    "\n",
    "            s = s_\n",
    "            global_step += 1\n",
    "            \n",
    "            if done:\n",
    "                break\n",
    "        \n",
    "        rewards.append(reward_per_episode)\n",
    "        \n",
    "        sample_idx = np.random.choice(len(s_buf), sample_size)\n",
    "        s_batch = np.array(s_buf)[sample_idx]\n",
    "        a_batch = np.array(a_buf)[sample_idx]\n",
    "        r_batch = np.array(r_buf)[sample_idx]\n",
    "        s__batch = np.array(s__buf)[sample_idx]\n",
    "        done_batch = np.array(done_buf)[sample_idx]\n",
    "\n",
    "        q_vals = sess.run(src_logit, feed_dict={X: s_batch})\n",
    "        q__vals = sess.run(tgt_logit, feed_dict={X: s__batch})\n",
    "        tgt_vals = r_batch + np.invert(done_batch) * discount_factor * np.max(q__vals, axis=1)\n",
    "\n",
    "        y_batch = np.copy(q_vals)\n",
    "        y_batch[np.arange(q_vals.shape[0]), a_batch] = tgt_vals\n",
    "\n",
    "        # Train source network\n",
    "        cost, _ = sess.run([loss, train_op], feed_dict={X: s_batch, y: y_batch})\n",
    "\n",
    "        print(\"\\rEpisode: {} / Cost: {} / Reward: {} / Global step: {}\".format(episode, \n",
    "                                                                               cost, \n",
    "                                                                               reward_per_episode,\n",
    "                                                                               global_step), \n",
    "              end=\"\")\n",
    "\n",
    "        # Update target network\n",
    "        if global_step % target_update_per_step == 0:\n",
    "            sess.run(update_target_ops)"
   ]
  },
  {
   "cell_type": "code",
   "execution_count": 8,
   "metadata": {},
   "outputs": [
    {
     "data": {
      "image/png": "[encoded data removed]",
      "text/plain": [
       "<matplotlib.figure.Figure at 0x7f8b4472db00>"
      ]
     },
     "metadata": {},
     "output_type": "display_data"
    }
   ],
   "source": [
    "plt.plot(np.arange(n_episode), rewards)\n",
    "plt.xlabel('episode')\n",
    "plt.ylabel('rewards')\n",
    "plt.title(\"Deep Q-Learning\")\n",
    "plt.show()"
   ]
  },
  {
   "cell_type": "markdown",
   "metadata": {},
   "source": [
    "### Policy Gradient"
   ]
  },
  {
   "cell_type": "code",
   "execution_count": 58,
   "metadata": {
    "collapsed": true
   },
   "outputs": [],
   "source": [
    "tf.reset_default_graph()\n",
    "\n",
    "X_state = tf.placeholder(dtype=tf.float32, shape=(None, n_state), name=\"input\")\n",
    "\n",
    "hidden = tf.layers.dense(X_state, 50, activation=tf.nn.relu, name=\"hidden\")\n",
    "logit = tf.layers.dense(hidden, n_action, activation=tf.nn.softmax, name=\"logit\")\n",
    "\n",
    "action = tf.placeholder(tf.int32, shape=(None, ), name=\"action\")\n",
    "labels = tf.one_hot(action, n_action)\n",
    "action_prob = tf.reduce_sum(tf.multiply(logit, labels), axis=1)\n",
    "\n",
    "discounted_rewards = tf.placeholder(tf.float32, shape=(None, ), name=\"discounted_rewards\")\n",
    "cross_entropy = tf.log(action_prob) * discounted_rewards\n",
    "loss = -tf.reduce_sum(cross_entropy)\n",
    "optimizer = tf.train.AdamOptimizer(learning_rate)\n",
    "training_op = optimizer.minimize(loss)"
   ]
  },
  {
   "cell_type": "code",
   "execution_count": 60,
   "metadata": {},
   "outputs": [
    {
     "name": "stdout",
     "output_type": "stream",
     "text": [
      "Episode: 999 / cost: 0.4296846389770508 / reward: 200.00000"
     ]
    }
   ],
   "source": [
    "n_episode = 1000\n",
    "n_step = 200\n",
    "discount_factor = 0.99\n",
    "\n",
    "init = tf.global_variables_initializer()\n",
    "with tf.Session() as sess:\n",
    "    y_rewards = []\n",
    "    sess.run(init)\n",
    "    for episode in range(n_episode):\n",
    "        obs = env.reset()\n",
    "        rewards = []\n",
    "        states = []\n",
    "        actions = []\n",
    "        for step in range(n_step):\n",
    "            policy = sess.run(logit, feed_dict={X_state: [obs]})\n",
    "            action_val = np.random.choice(np.arange(n_action), p=policy[0])\n",
    "            actions.append(action_val)\n",
    "            states.append(obs)\n",
    "\n",
    "            obs, r, done, _ = env.step(action_val)\n",
    "            rewards.append(r)\n",
    "            if done:\n",
    "                break\n",
    "        \n",
    "        # REINFORCE algorithm\n",
    "        discounted_rewards_val = discount_and_normalize_rewards(rewards, discount_factor)\n",
    "        \n",
    "        cost, _ = sess.run([loss, training_op], \n",
    "                 feed_dict={\n",
    "                     X_state: states, \n",
    "                     action: actions,\n",
    "                     discounted_rewards: discounted_rewards_val\n",
    "                 })\n",
    "\n",
    "        \n",
    "        reward_sum = sum(rewards)\n",
    "        y_rewards.append(reward_sum)\n",
    "        print(\"\\rEpisode: {} / cost: {} / reward: {}\".format(episode, cost, reward_sum), end=\"\")\n"
   ]
  },
  {
   "cell_type": "code",
   "execution_count": 76,
   "metadata": {
    "scrolled": true
   },
   "outputs": [
    {
     "data": {
      "image/png": "[encoded data removed]",
      "text/plain": [
       "<matplotlib.figure.Figure at 0x7f75c8554c88>"
      ]
     },
     "metadata": {},
     "output_type": "display_data"
    }
   ],
   "source": [
    "plt.plot(np.arange(n_episode), y_rewards)\n",
    "plt.xlabel('episode')\n",
    "plt.ylabel('rewards')\n",
    "plt.title(\"Policy Gradient - Rewards\")\n",
    "plt.show()"
   ]
  },
  {
   "cell_type": "markdown",
   "metadata": {},
   "source": [
    "### Actor - Critic"
   ]
  },
  {
   "cell_type": "code",
   "execution_count": 19,
   "metadata": {
    "collapsed": true
   },
   "outputs": [],
   "source": [
    "tf.reset_default_graph()\n",
    "\n",
    "X_state = tf.placeholder(tf.float32, shape=(None, n_state), name=\"input\")\n",
    "\n",
    "# Actor\n",
    "with tf.name_scope(\"policy_netowrk\") as scope:\n",
    "    policy_hidden = tf.layers.dense(X_state, n_hidden, activation=tf.nn.relu, name=\"policy_hidden\")\n",
    "    policy_logit = tf.layers.dense(policy_hidden, n_action, activation=tf.nn.softmax, name=\"policy_logit\")\n",
    "    \n",
    "    chosen_action = tf.placeholder(tf.int32, shape=(None, ), name=\"action\")\n",
    "    action_prob = tf.reduce_sum(tf.one_hot(chosen_action, n_action) * policy_logit, axis=1)\n",
    "    \n",
    "    advantage = tf.placeholder(tf.float32, shape=(None,), name=\"advantage\")\n",
    "    cross_entropy = tf.log(action_prob) * advantage\n",
    "    policy_loss = -tf.reduce_sum(cross_entropy)\n",
    "    \n",
    "    policy_training_op = tf.train.AdamOptimizer(learning_rate).minimize(policy_loss)\n",
    "\n",
    "# Critic\n",
    "with tf.name_scope(\"value_network\") as scope:\n",
    "    value_hidden = tf.layers.dense(X_state, n_hidden, activation=tf.nn.relu, name=\"value_hidden\")\n",
    "    value_logit = tf.layers.dense(value_hidden, 1, name=\"value_logit\")\n",
    "    \n",
    "    y_value = tf.placeholder(tf.float32, shape=(None, 1), name=\"y_value\")\n",
    "    value_loss = tf.reduce_mean(tf.square(y_value - value_logit))\n",
    "    value_training_op = tf.train.AdamOptimizer(learning_rate).minimize(value_loss)"
   ]
  },
  {
   "cell_type": "code",
   "execution_count": 36,
   "metadata": {},
   "outputs": [
    {
     "name": "stdout",
     "output_type": "stream",
     "text": [
      "Episode: 999 / Value cost: 9.469500541687012 / Policy cost: 1414.7159423828125 / Reward: 200.000"
     ]
    }
   ],
   "source": [
    "n_episode = 1000\n",
    "n_step = 200\n",
    "discount_factor = 0.99\n",
    "\n",
    "init = tf.global_variables_initializer()\n",
    "\n",
    "with tf.Session() as sess:\n",
    "    sess.run(init)\n",
    "    \n",
    "    # http://rll.berkeley.edu/deeprlcourse/f17docs/lecture_5_actor_critic_pdf.pdf\n",
    "    # p.17 - Actor-critic algorithms (with discount)\n",
    "    rewards = []\n",
    "    for episode in range(n_episode):\n",
    "        s = env.reset()\n",
    "        \n",
    "        reward_per_episode = 0\n",
    "        \n",
    "        s_buf = []\n",
    "        a_buf = []\n",
    "        r_buf = []\n",
    "        \n",
    "        # 1. Sample data(per episode)\n",
    "        for step in range(n_step):\n",
    "            p = sess.run(policy_logit, feed_dict={X_state: [s]})\n",
    "            a = np.random.choice(np.arange(n_action), p=p[0])\n",
    "            \n",
    "            s_, r, done, _ = env.step(a)\n",
    "            \n",
    "            reward_per_episode += r\n",
    "            \n",
    "            s_buf.append(s)\n",
    "            a_buf.append(a)\n",
    "            r_buf.append(r)\n",
    "            \n",
    "            s = s_\n",
    "            \n",
    "            if done:\n",
    "                break\n",
    "        \n",
    "        rewards.append(reward_per_episode)\n",
    "        s_buf = np.array(s_buf)\n",
    "        a_buf = np.array(a_buf).reshape(-1, 1)\n",
    "        r_buf = np.array(r_buf).reshape(-1, 1)\n",
    "        s__buf = s_buf[1:, :]\n",
    "        \n",
    "        # 2. Update critic\n",
    "        v_s_ = sess.run(value_logit, feed_dict={X_state: s__buf})\n",
    "        v_s_ = np.concatenate([v_s_, [[0]]])\n",
    "\n",
    "        y_target_batch = r_buf + discount_factor * v_s_ # bootstrapping\n",
    "\n",
    "        v_cost, _ = sess.run([value_loss, value_training_op], \n",
    "                             feed_dict={X_state: s_buf, y_value: y_target_batch})\n",
    "        \n",
    "        # 3. Calculate advantage\n",
    "        # http://rll.berkeley.edu/deeprlcourse/f17docs/lecture_5_actor_critic_pdf.pdf\n",
    "        # p.21 - Critics as state-dependent baselines\n",
    "        \n",
    "        v_s = sess.run(value_logit, feed_dict={X_state: s_buf})\n",
    "        \n",
    "        advantage_batch = discount_rewards(r_buf, discount_factor) - v_s\n",
    "        \n",
    "        # 4. Update actor\n",
    "        policy_cost, _ = sess.run([policy_loss, policy_training_op], \n",
    "                                  feed_dict={X_state: s_buf,\n",
    "                                             chosen_action: a_buf.flatten(),\n",
    "                                             advantage: advantage_batch.flatten()})\n",
    "        \n",
    "        print(\"\\rEpisode: {} / Value cost: {} / Policy cost: {} / Reward: {}\".format(episode,\n",
    "                                                                                     v_cost,\n",
    "                                                                                     policy_cost,\n",
    "                                                                                     reward_per_episode),\n",
    "             end=\"\")"
   ]
  },
  {
   "cell_type": "code",
   "execution_count": 37,
   "metadata": {},
   "outputs": [
    {
     "data": {
      "image/png": "[encoded data removed]",
      "text/plain": [
       "<matplotlib.figure.Figure at 0x7fb434177780>"
      ]
     },
     "metadata": {},
     "output_type": "display_data"
    }
   ],
   "source": [
    "plt.plot(np.arange(n_episode), rewards)\n",
    "plt.xlabel('episode')\n",
    "plt.ylabel('rewards')\n",
    "plt.title(\"Actor - Critic - Rewards\")\n",
    "plt.show()"
   ]
  },
  {
   "cell_type": "markdown",
   "metadata": {
    "collapsed": true
   },
   "source": [
    "# Continuous Action Space"
   ]
  },
  {
   "cell_type": "code",
   "execution_count": 3,
   "metadata": {},
   "outputs": [
    {
     "name": "stdout",
     "output_type": "stream",
     "text": [
      "\u001b[33mWARN: gym.spaces.Box autodetected dtype as <class 'numpy.float32'>. Please provide explicit dtype.\u001b[0m\n",
      "\u001b[33mWARN: gym.spaces.Box autodetected dtype as <class 'numpy.float32'>. Please provide explicit dtype.\u001b[0m\n",
      "State: shape=(3,), low=[-1. -1. -8.], high=[1. 1. 8.]\n",
      "Action: shape=(1,), low=[-2.], high=[2.]\n"
     ]
    }
   ],
   "source": [
    "env = gym.make('Pendulum-v0')\n",
    "\n",
    "s_space = env.observation_space\n",
    "print(\"State: shape={}, low={}, high={}\".format(s_space.shape, s_space.low, s_space.high))\n",
    "a_space = env.action_space\n",
    "print(\"Action: shape={}, low={}, high={}\".format(a_space.shape, a_space.low, a_space.high))"
   ]
  },
  {
   "cell_type": "markdown",
   "metadata": {},
   "source": [
    "### Random Agent"
   ]
  },
  {
   "cell_type": "code",
   "execution_count": 4,
   "metadata": {},
   "outputs": [
    {
     "data": {
      "image/png": "[encoded data removed]",
      "text/plain": [
       "<matplotlib.figure.Figure at 0x12c37b588>"
      ]
     },
     "metadata": {},
     "output_type": "display_data"
    }
   ],
   "source": [
    "s = env.reset()\n",
    "\n",
    "done = False\n",
    "\n",
    "step = 0\n",
    "rgb_arrays = []\n",
    "while not done and step < 200:\n",
    "    s, r, done, _ = env.step(env.action_space.sample())\n",
    "    print(\"\\rReward: {:.5f}, Step: {:0>3d}\".format(r, step), end=\"\")\n",
    "    step += 1\n",
    "    rgb_arrays.append(env.render(mode='rgb_array'))\n",
    "\n",
    "env.close()\n",
    "show_state(rgb_arrays)"
   ]
  },
  {
   "cell_type": "markdown",
   "metadata": {},
   "source": [
    "### Deep Deterministic Policy Gradient (DDPG)"
   ]
  },
  {
   "cell_type": "code",
   "execution_count": 4,
   "metadata": {
    "collapsed": true
   },
   "outputs": [],
   "source": [
    "def actor(state, action_size, action_bound, name=\"\"):\n",
    "    \"\"\"\n",
    "    state: tensor\n",
    "    action_size: int\n",
    "    \"\"\"\n",
    "    with tf.variable_scope(name):\n",
    "        h1 = tf.layers.dense(state, 400)\n",
    "        h1 = tf.contrib.layers.layer_norm(h1, activation_fn=tf.nn.relu)\n",
    "        \n",
    "        h2 = tf.layers.dense(h1, 300, activation=None)\n",
    "        h2 = tf.contrib.layers.layer_norm(h2, activation_fn=tf.nn.relu)\n",
    "        \n",
    "        initializer = tf.random_uniform_initializer(-0.003, 0.003)\n",
    "        o = tf.layers.dense(h2, action_size, activation=tf.tanh, kernel_initializer=initializer)\n",
    "        multiplier = tf.constant(np.abs(np.max(action_bound)), dtype=tf.float32)\n",
    "        o = tf.clip_by_value(o * multiplier, action_bound[0], action_bound[1])\n",
    "        \n",
    "        return o"
   ]
  },
  {
   "cell_type": "code",
   "execution_count": 5,
   "metadata": {
    "collapsed": true
   },
   "outputs": [],
   "source": [
    "def critic(state, action, name=\"\"):\n",
    "    \"\"\"\n",
    "    state: tensor\n",
    "    action: tensor\n",
    "    \"\"\"\n",
    "    with tf.variable_scope(name):\n",
    "        h1 = tf.layers.dense(state, 400, activation=None)\n",
    "        h1 = tf.contrib.layers.layer_norm(h1, activation_fn=tf.nn.relu)\n",
    "        \n",
    "        h2 = tf.concat([h1, action], axis=-1)\n",
    "        h2 = tf.layers.dense(h2, 300, activation=tf.nn.relu)\n",
    "        \n",
    "        initializer = tf.random_uniform_initializer(-0.003, 0.003)\n",
    "        o  = tf.layers.dense(h2, 1, kernel_initializer=initializer)\n",
    "        \n",
    "        return o"
   ]
  },
  {
   "cell_type": "code",
   "execution_count": 6,
   "metadata": {
    "collapsed": true
   },
   "outputs": [],
   "source": [
    "def update_vars(src_scope_name, tgt_scope_name, tau):\n",
    "    src_vars = tf.get_collection(tf.GraphKeys.TRAINABLE_VARIABLES, src_scope_name)\n",
    "    tgt_vars = tf.get_collection(tf.GraphKeys.TRAINABLE_VARIABLES, tgt_scope_name)\n",
    "    \n",
    "    update_ops = [tf.assign(t_v, (1 - tau) * t_v + tau * s_v) for s_v, t_v in zip(src_vars, tgt_vars)]\n",
    "    \n",
    "    return tf.group(*update_ops)"
   ]
  },
  {
   "cell_type": "code",
   "execution_count": 11,
   "metadata": {
    "collapsed": true
   },
   "outputs": [],
   "source": [
    "buf_size = 100000\n",
    "n_episode = 300\n",
    "n_step = 200\n",
    "batch_size = 64\n",
    "actor_learning_rate = 0.0001\n",
    "critic_learning_rate = 0.001\n",
    "tau = 0.001\n",
    "discount_rate = 0.99"
   ]
  },
  {
   "cell_type": "code",
   "execution_count": 12,
   "metadata": {
    "collapsed": true
   },
   "outputs": [],
   "source": [
    "tf.reset_default_graph()\n",
    "\n",
    "X = tf.placeholder(dtype=tf.float32, shape=(None, s_space.shape[0]), name=\"X\")\n",
    "action = tf.placeholder(dtype=tf.float32, shape=(None, 1), name=\"action\")\n",
    "action_bound = (a_space.low[0], a_space.high[0])\n",
    "\n",
    "# Critic Netowrk\n",
    "critic_logit = critic(X, action, \"critic\")\n",
    "critic_y = tf.placeholder(dtype=tf.float32, shape=(None, 1), name=\"critic_y\")\n",
    "critic_loss = tf.reduce_mean(tf.pow(critic_y - critic_logit, 2))\n",
    "critic_training_op = tf.train.AdamOptimizer(critic_learning_rate).minimize(critic_loss)\n",
    "\n",
    "# Actor Network\n",
    "actor_logit = actor(X, a_space.shape[0], action_bound, \"actor\")\n",
    "\n",
    "critic_action_grad = tf.gradients(critic_logit, action)[0]\n",
    "actor_vars = tf.get_collection(tf.GraphKeys.TRAINABLE_VARIABLES, \"actor\")\n",
    "# By setting 'grad_ys', each gradient is multiplied by 'critic_grad'\n",
    "# Refer to: https://stackoverflow.com/questions/42399401/use-of-grads-ys-parameter-in-tf-gradients-tensorflow\n",
    "# By multiplying -1, we are trying to maximize return from the objective function.\n",
    "actor_grads = tf.gradients(actor_logit, actor_vars, grad_ys=(-1)*critic_action_grad)\n",
    "actor_grads = [g / batch_size for g in actor_grads]\n",
    "actor_training_op = tf.train.AdamOptimizer(actor_learning_rate).apply_gradients(zip(actor_grads, actor_vars))\n",
    "\n",
    "actor_target_logit = actor(X, a_space.shape[0], action_bound, name=\"actor_target\")\n",
    "critic_target_logit = critic(X, action, name=\"critic_target\")\n",
    "\n",
    "init_actor_target = update_vars(\"actor\", \"actor_target\", 1)\n",
    "init_critic_target = update_vars(\"critic\", \"critic_target\", 1)\n",
    "\n",
    "actor_target_update_op = update_vars(\"actor\", \"actor_target\", tau)\n",
    "critic_target_update_op = update_vars(\"critic\", \"critic_target\", tau)"
   ]
  },
  {
   "cell_type": "code",
   "execution_count": 13,
   "metadata": {
    "collapsed": true
   },
   "outputs": [],
   "source": [
    "# Referenced from https://github.com/openai/baselines/blob/master/baselines/ddpg/noise.py\n",
    "class OrnsteinUhlenbeckActionNoise:\n",
    "    def __init__(self, mu, sigma=0.3, theta=.15, dt=1e-2, x0=None):\n",
    "        self.theta = theta\n",
    "        self.mu = mu\n",
    "        self.sigma = sigma\n",
    "        self.dt = dt\n",
    "        self.x0 = x0\n",
    "        self.reset()\n",
    "\n",
    "    def __call__(self):\n",
    "        x = self.x_prev + self.theta * (self.mu - self.x_prev) * self.dt + \\\n",
    "                self.sigma * np.sqrt(self.dt) * np.random.normal(size=self.mu.shape)\n",
    "        self.x_prev = x\n",
    "        return x\n",
    "\n",
    "    def reset(self):\n",
    "        self.x_prev = self.x0 if self.x0 is not None else np.zeros_like(self.mu)\n",
    "\n",
    "    def __repr__(self):\n",
    "        return 'OrnsteinUhlenbeckActionNoise(mu={}, sigma={})'.format(self.mu, self.sigma)"
   ]
  },
  {
   "cell_type": "code",
   "execution_count": 14,
   "metadata": {
    "scrolled": true
   },
   "outputs": [
    {
     "name": "stdout",
     "output_type": "stream",
     "text": [
      "Episode: 299 / Critic Losses: 3.809056282043457 / Rewards: -129.307086369489448"
     ]
    },
    {
     "data": {
      "image/png": "[encoded data removed]",
      "text/plain": [
       "<matplotlib.figure.Figure at 0x7f4c740b02b0>"
      ]
     },
     "metadata": {},
     "output_type": "display_data"
    }
   ],
   "source": [
    "init = tf.global_variables_initializer()\n",
    "\n",
    "with tf.Session() as sess:\n",
    "    sess.run(init)\n",
    "    sess.run([init_actor_target, init_critic_target])\n",
    "    \n",
    "    replay_buf = deque(maxlen=buf_size)\n",
    "    rewards = []\n",
    "    noise = OrnsteinUhlenbeckActionNoise(mu=np.zeros_like(a_space.shape))\n",
    "    for episode in range(n_episode):\n",
    "        s = env.reset()\n",
    "        noise.reset()\n",
    "        \n",
    "        r_per_ep = 0\n",
    "        critic_losses = []\n",
    "        rgb_arrays = []\n",
    "        for step in range(n_step):\n",
    "            a = sess.run(actor_logit, feed_dict={X: [s]})[0]\n",
    "            a = a + noise()\n",
    "            \n",
    "            s_, r, done, _ = env.step(a)\n",
    "            r_per_ep += r\n",
    "            if episode and episode % 50 == 0:\n",
    "                rgb_arrays.append(env.render(mode='rgb_array'))\n",
    "            \n",
    "            replay_buf.append((s, a, r, s_))\n",
    "            s = s_\n",
    "            \n",
    "            # The first episode is for buffer population.\n",
    "            if len(replay_buf) > batch_size:\n",
    "                batch = random.sample(replay_buf, batch_size)\n",
    "                \n",
    "                s_batch = np.array([i[0] for i in batch])\n",
    "                a_batch = np.array([i[1] for i in batch])\n",
    "                r_batch = np.array([i[2] for i in batch]).reshape(-1, 1)\n",
    "                s__batch = np.array([i[3] for i in batch])\n",
    "                \n",
    "                a_ = sess.run(actor_target_logit, feed_dict={X: s__batch})\n",
    "                q_ = sess.run(critic_target_logit, feed_dict={X: s__batch, action: a_})\n",
    "                \n",
    "                q_y = r_batch + discount_rate * q_\n",
    "                \n",
    "                critic_loss_val, _ = sess.run([critic_loss, critic_training_op], \n",
    "                                              feed_dict={X: s_batch, \n",
    "                                                         action: a_batch, \n",
    "                                                         critic_y: q_y})\n",
    "                critic_losses.append(critic_loss_val)\n",
    "                \n",
    "                cur_a_batch = sess.run(actor_logit, feed_dict={X: s_batch})\n",
    "                sess.run(actor_training_op, feed_dict={X: s_batch, action: cur_a_batch})\n",
    "                sess.run([actor_target_update_op, critic_target_update_op])\n",
    "            \n",
    "            if done:\n",
    "                break\n",
    "        \n",
    "        print(\"\\rEpisode: {} / Critic Losses: {} / Rewards: {}\".format(\n",
    "            episode, np.mean(critic_losses), r_per_ep), end=\"\")\n",
    "        rewards.append(r_per_ep)\n",
    "        \n",
    "        if episode and episode % 50 == 0:\n",
    "            show_state(rgb_arrays)"
   ]
  },
  {
   "cell_type": "code",
   "execution_count": 16,
   "metadata": {},
   "outputs": [
    {
     "data": {
      "image/png": "[encoded data removed]",
      "text/plain": [
       "<matplotlib.figure.Figure at 0x7f4ca0077ef0>"
      ]
     },
     "metadata": {},
     "output_type": "display_data"
    }
   ],
   "source": [
    "plt.plot(np.arange(len(rewards)), rewards)\n",
    "plt.xlabel('episode')\n",
    "plt.ylabel('rewards')\n",
    "plt.title(\"DDPG - Pendulum-v0\")\n",
    "plt.show()"
   ]
  },
  {
   "cell_type": "code",
   "execution_count": null,
   "metadata": {
    "collapsed": true
   },
   "outputs": [],
   "source": []
  }
 ],
 "metadata": {
  "kernelspec": {
   "display_name": "Python 3",
   "language": "python",
   "name": "python3"
  },
  "language_info": {
   "codemirror_mode": {
    "name": "ipython",
    "version": 3
   },
   "file_extension": ".py",
   "mimetype": "text/x-python",
   "name": "python",
   "nbconvert_exporter": "python",
   "pygments_lexer": "ipython3",
   "version": "3.5.4"
  }
 },
 "nbformat": 4,
 "nbformat_minor": 2
}
